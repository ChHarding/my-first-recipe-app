{
 "cells": [
  {
   "cell_type": "markdown",
   "metadata": {},
   "source": [
    "### List widgets for my recipe app\n"
   ]
  },
  {
   "cell_type": "markdown",
   "metadata": {},
   "source": [
    "Version 1: \n",
    "- using a text entry field, the user enters a search term\n",
    "- label on the left should say \"Search for\"\n",
    "- to the right there are two buttons: \"by Meal Type\" and \"by Calories\", which will start the appropriate search\n",
    "- the search results are displayed in a Text widget (i.e. a multi-line text field, similar to a terminal window), which the user can copy from but not edit.\n",
    "\n",
    "Version 2: \n",
    "- using a text entry field, the user enters a search term\n",
    "- to the left is a label \"Search for\"\n",
    "- to the right or below the text entry are two buttons: \"by Meal Type\" and \"by Calories\", with the default being \"by Meal Type\"\n",
    "- the user clicks on one of the buttons to select the search type\n",
    "- to start the search, the user hits Return in the text field\n",
    "- (Alternatively, there could be a Search button to the right of the radio buttons, which the user clicks to start the search)\n",
    "- search results display in three static text labels (i.e. not editable by the user), one for Meal Type, one for Calories, and one for ingredients list"
   ]
  },
  {
   "cell_type": "code",
   "execution_count": 21,
   "metadata": {},
   "outputs": [
    {
     "ename": "ModuleNotFoundError",
     "evalue": "No module named 'tkinter'",
     "output_type": "error",
     "traceback": [
      "\u001b[0;31m---------------------------------------------------------------------------\u001b[0m",
      "\u001b[0;31mModuleNotFoundError\u001b[0m                       Traceback (most recent call last)",
      "Cell \u001b[0;32mIn[21], line 1\u001b[0m\n\u001b[0;32m----> 1\u001b[0m \u001b[39mimport\u001b[39;00m \u001b[39mtkinter\u001b[39;00m \u001b[39mas\u001b[39;00m \u001b[39mtk\u001b[39;00m \u001b[39m# GUI library\u001b[39;00m\n\u001b[1;32m      2\u001b[0m \u001b[39mimport\u001b[39;00m \u001b[39mrequests\u001b[39;00m \u001b[39m# HTTP library\u001b[39;00m\n\u001b[1;32m      3\u001b[0m \u001b[39mimport\u001b[39;00m \u001b[39mkeys\u001b[39;00m \u001b[39m# API keys\u001b[39;00m\n",
      "\u001b[0;31mModuleNotFoundError\u001b[0m: No module named 'tkinter'"
     ]
    }
   ],
   "source": [
    "import tkinter as tk # GUI library\n",
    "import requests # HTTP library\n",
    "import keys # API keys\n",
    "\n",
    "# Base URL\n",
    "URL = \"https://api.edamam.com/api/recipes/v2\"\n",
    "\n",
    "class RecipeSearchApp(tk.Tk): # Inherit from tk.Tk class\n",
    "    def __init__(self): # Constructor\n",
    "        super().__init__() # Call the constructor of the parent class\n",
    "        self.title(\"Recipe Search\") # Set the title of the window\n",
    "\n",
    "        # Create labels and entry fields for user input\n",
    "        self.query_label = tk.Label(self, text=\"Search Query:\") # Create a label\n",
    "        self.query_label.pack() # Add the label to the window\n",
    "        self.query_entry = tk.Entry(self) # Create an entry field\n",
    "        self.query_entry.pack() # Add the entry field to the window\n",
    "\n",
    "        self.meal_type_label = tk.Label(self, text=\"Meal Type:\") # Create a label\n",
    "        self.meal_type_label.pack() # Add the label to the window\n",
    "        self.meal_type_entry = tk.Entry(self) # Create an entry field\n",
    "        self.meal_type_entry.pack() # Add the entry field to the window\n",
    "\n",
    "        self.calories_label = tk.Label(self, text=\"Calories Range:\") # Create a label\n",
    "        self.calories_label.pack() # Add the label to the window\n",
    "        self.calories_entry = tk.Entry(self) # Create an entry field\n",
    "        self.calories_entry.pack() # Add the entry field to the window\n",
    "\n",
    "        self.sort_by_label = tk.Label(self, text=\"Sort by:\") # Create a label\n",
    "        self.sort_by_label.pack() # Add the label to the window\n",
    "        self.sort_by_entry = tk.Entry(self) # Create an entry field\n",
    "        self.sort_by_entry.pack() # Add the entry field to the window\n",
    "\n",
    "        # Create a \"Search\" button\n",
    "        self.search_button = tk.Button(self, text=\"Search\", command=self.start_search) # Create a button\n",
    "        self.search_button.pack() # Add the button to the window\n",
    "\n",
    "        # Create a text area to display search results\n",
    "        self.result_text = tk.Text(self, height=10, width=50) # Create a text area\n",
    "        self.result_text.pack() # Add the text area to the window\n",
    " \n",
    "    def start_search(self): # Callback function for the \"Search\" button\n",
    "        # Get user input from entry fields\n",
    "        query = self.query_entry.get() # Get the text from the entry field\n",
    "        meal_type = self.meal_type_entry.get() # Get the text from the entry field\n",
    "        calories = self.calories_entry.get() # Get the text from the entry field\n",
    "        sort_by = self.sort_by_entry.get() # Get the text from the entry field\n",
    "\n",
    "        # Perform the recipe search using the provided criteria\n",
    "        recipes = self.search_edamam_recipes(query, meal_type, calories, sort_by) # Call the search function\n",
    "\n",
    "        # Display the search results in the text area\n",
    "        if recipes: # If recipes were found\n",
    "            self.result_text.delete(\"1.0\", tk.END)  # Clear previous results\n",
    "            for recipe in recipes: # Iterate over the recipes\n",
    "                label = recipe['recipe']['label'] # Get the recipe name\n",
    "                calories = recipe['recipe']['calories'] # Get the calories\n",
    "                ingredients = recipe['recipe']['ingredientLines'] # Get the ingredients\n",
    "                image = recipe['recipe'].get('image', 'No image available') # Get the image URL\n",
    " \n",
    "                # Append the recipe details to the text area\n",
    "                result_text = f\"Recipe name: {label}\\nCalories: {calories} kcal\\nIngredients:\\n\" # Create a string\n",
    "                for ingredient in ingredients: # Iterate over the ingredients\n",
    "                    result_text += f\"- {ingredient}\\n\" # Append the ingredient to the string\n",
    "                result_text += f\"Image: {image}\\n\\n\" # Append the image URL to the string\n",
    "                self.result_text.insert(tk.END, result_text) # Add the string to the text area\n",
    "        else:\n",
    "            self.result_text.delete(\"1.0\", tk.END) # Clear previous results\n",
    "            self.result_text.insert(tk.END, \"No recipes found\") # Display a message\n",
    "\n",
    "    def search_edamam_recipes(self, query, meal_type, calories, sort_by): # Function to search for recipes\n",
    "        params = {\n",
    "            \"q\": query,\n",
    "            \"app_id\": keys.app_id,\n",
    "            \"app_key\": keys.key,\n",
    "            \"type\": \"any\",\n",
    "            \"field\": [\"label\", \"calories\", \"images\", \"ingredientLines\", \"totalCO2Emissions\", \"yield\", \"totalTime\"],\n",
    "            \"mealType\": meal_type,\n",
    "            \"calories\": calories,\n",
    "            \"sort\": sort_by\n",
    "        }\n",
    "\n",
    "        response = requests.get(URL, params=params)\n",
    "        if response.status_code == 200:\n",
    "            result = response.json()\n",
    "            recipes = result.get('hits', [])\n",
    "            return recipes\n",
    "        else:\n",
    "            return None\n",
    "\n",
    "if __name__ == \"__main__\": # If the script is executed directly\n",
    "    app = RecipeSearchApp() # Create an instance of the RecipeSearchApp class\n",
    "    app.mainloop() # Run the main loop\n"
   ]
  },
  {
   "cell_type": "markdown",
   "metadata": {},
   "source": [
    "### Next Steps "
   ]
  },
  {
   "cell_type": "markdown",
   "metadata": {},
   "source": [
    "- Layout (use 5 column, for left/right use columnspan)\n",
    "- Use pack() method to place widgets in the window (note: less useful)\n",
    "- Use grid() to place widgets in a row (note: use grid for everthing!)\n",
    "- Add a text widget to display the search results in a second row\n",
    "- Use columnspan to span the widget over all three columns \n",
    "- Add two buttons that start the search: by \"Meal Type\" and by \"Calories\" instead of the \"Start Search button\" \n",
    "\n",
    "\n",
    "- mealtype (use dropdown menu)\n",
    "- dropdown menu - calories use two side by side to display range. have a dash in the middle so it's clear (min = 0 - max 2000)\n",
    "\n",
    "- at some pont - communicate error has happen (ex. -300 calories don't exist)\n",
    "- look into wide scroll bar on the text widget"
   ]
  }
 ],
 "metadata": {
  "kernelspec": {
   "display_name": "Python 3",
   "language": "python",
   "name": "python3"
  },
  "language_info": {
   "codemirror_mode": {
    "name": "ipython",
    "version": 3
   },
   "file_extension": ".py",
   "mimetype": "text/x-python",
   "name": "python",
   "nbconvert_exporter": "python",
   "pygments_lexer": "ipython3",
   "version": "3.11.6"
  },
  "orig_nbformat": 4
 },
 "nbformat": 4,
 "nbformat_minor": 2
}
